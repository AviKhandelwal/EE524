{
 "cells": [
  {
   "cell_type": "code",
   "execution_count": null,
   "metadata": {},
   "outputs": [],
   "source": [
    "import numpy as np\n",
    "import matplotlib.pyplot as plt\n",
    "from matplotlib import cm\n",
    "from mpl_toolkits.mplot3d import Axes3D\n",
    "x=np.linspace(-32,32,200)\n",
    "y=np.linspace(-32,32,200)\n",
    "n=int(input(\"Enter n\\n\"))\n",
    "if n==1:\n",
    "    z=-20*np.exp(-0.2*x)-np.exp(np.cos(2*np.pi*x))+20+np.exp(1)\n",
    "    plt.plot(x,z,'k')\n",
    "else:\n",
    "    x,y=np.meshgrid(x,y)\n",
    "    z=-20*np.exp(-0.2*np.sqrt(0.5*(x**2+y**2)))-np.exp(0.5*(np.cos(2*np.pi*x)+np.cos(2*np.pi*y)))+20+np.exp(1)\n",
    "    fig=plt.figure()\n",
    "    ax=fig.gca(projection='3d')\n",
    "    ax.plot_surface(x,y,z,cmap=cm.coolwarm,linewidth=0, antialiased=False)"
   ]
  }
 ],
 "metadata": {
  "kernelspec": {
   "display_name": "Python 3",
   "language": "python",
   "name": "python3"
  },
  "language_info": {
   "codemirror_mode": {
    "name": "ipython",
    "version": 3
   },
   "file_extension": ".py",
   "mimetype": "text/x-python",
   "name": "python",
   "nbconvert_exporter": "python",
   "pygments_lexer": "ipython3",
   "version": "3.7.6"
  }
 },
 "nbformat": 4,
 "nbformat_minor": 4
}
